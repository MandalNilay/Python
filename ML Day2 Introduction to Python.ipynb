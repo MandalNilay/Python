{
 "cells": [
  {
   "cell_type": "code",
   "execution_count": 2,
   "id": "eceeb4ba",
   "metadata": {},
   "outputs": [
    {
     "name": "stdout",
     "output_type": "stream",
     "text": [
      "100\n",
      "200\n",
      "A less than B\n",
      "Good Day\n"
     ]
    }
   ],
   "source": [
    "a = 100\n",
    "b = 200\n",
    "if a<b:\n",
    "    print (a)\n",
    "    print (b)\n",
    "    print ( 'A less than B' )\n",
    "print ('Good Day')"
   ]
  },
  {
   "cell_type": "code",
   "execution_count": 3,
   "id": "52485407",
   "metadata": {},
   "outputs": [
    {
     "name": "stdout",
     "output_type": "stream",
     "text": [
      "Good Day\n"
     ]
    }
   ],
   "source": [
    "a = 300\n",
    "b = 200\n",
    "if a<b:\n",
    "    print (a)\n",
    "    print (b)\n",
    "    print ( 'A less than B' )\n",
    "print ('Good Day')"
   ]
  },
  {
   "cell_type": "code",
   "execution_count": 1,
   "id": "cd83bbe5",
   "metadata": {},
   "outputs": [
    {
     "name": "stdout",
     "output_type": "stream",
     "text": [
      "Good Day\n"
     ]
    }
   ],
   "source": [
    "a = 300\n",
    "b = 200\n",
    "if a<b:\n",
    "    print (a)\n",
    "    print (b)\n",
    "    print ( 'A less than B' )\n",
    "print ('Good Day')"
   ]
  },
  {
   "cell_type": "code",
   "execution_count": 8,
   "id": "8f4369b6",
   "metadata": {},
   "outputs": [
    {
     "name": "stdout",
     "output_type": "stream",
     "text": [
      "300\n",
      "200\n",
      "2 A Greater than B\n",
      "Good Day\n"
     ]
    }
   ],
   "source": [
    "a = 300\n",
    "b = 200\n",
    "if a<b:\n",
    "    print (a)\n",
    "    print (b)\n",
    "    print ( '1 A less than B' )\n",
    "if a>b:\n",
    "    print (a)\n",
    "    print (b)\n",
    "    print ( '2 A Greater than B' )\n",
    "print ('Good Day')"
   ]
  },
  {
   "cell_type": "code",
   "execution_count": 9,
   "id": "cda25faa",
   "metadata": {},
   "outputs": [
    {
     "name": "stdout",
     "output_type": "stream",
     "text": [
      "300\n",
      "300\n",
      "1 A less than B\n",
      "300\n",
      "300\n",
      "2 A Greater than B\n",
      "Good Day\n"
     ]
    }
   ],
   "source": [
    "a = 300\n",
    "b = 300\n",
    "if a<=b:\n",
    "    print (a)\n",
    "    print (b)\n",
    "    print ( '1 A less than B' )\n",
    "if a>=b:\n",
    "    print (a)\n",
    "    print (b)\n",
    "    print ( '2 A Greater than B' )\n",
    "print ('Good Day')"
   ]
  },
  {
   "cell_type": "code",
   "execution_count": 10,
   "id": "3a941afe",
   "metadata": {},
   "outputs": [
    {
     "name": "stdout",
     "output_type": "stream",
     "text": [
      "300\n",
      "300\n",
      "1 A less than B\n",
      "Good Day\n"
     ]
    }
   ],
   "source": [
    "a = 300\n",
    "b = 300\n",
    "if a<=b:\n",
    "    print (a)\n",
    "    print (b)\n",
    "    print ( '1 A less than B' )\n",
    "elif a>=b:\n",
    "    print (a)\n",
    "    print (b)\n",
    "    print ( '2 A Greater than B' )\n",
    "print ('Good Day')"
   ]
  },
  {
   "cell_type": "code",
   "execution_count": 11,
   "id": "cc501a7b",
   "metadata": {},
   "outputs": [
    {
     "name": "stdout",
     "output_type": "stream",
     "text": [
      "100 and  100 are equal\n"
     ]
    }
   ],
   "source": [
    "a =100\n",
    "b = 100\n",
    "if a>b:\n",
    "    print (a,'Greater than ', b)\n",
    "elif b>a:\n",
    "    print (b,'Greater than',a)\n",
    "else:\n",
    "    print (a,'and ',b ,'are equal')\n"
   ]
  },
  {
   "cell_type": "code",
   "execution_count": 12,
   "id": "926560a4",
   "metadata": {},
   "outputs": [
    {
     "name": "stdout",
     "output_type": "stream",
     "text": [
      "100 Third and  100 are equal\n"
     ]
    }
   ],
   "source": [
    "a =100\n",
    "b = 100\n",
    "if a>b:\n",
    "    print (a,'First - Greater than ', b)\n",
    "elif b>a:\n",
    "    print (b,'Second - Greater than',a)\n",
    "else:\n",
    "    print (a,'Third and ',b ,'are equal')\n"
   ]
  },
  {
   "cell_type": "code",
   "execution_count": 13,
   "id": "7787f188",
   "metadata": {},
   "outputs": [
    {
     "name": "stdout",
     "output_type": "stream",
     "text": [
      "100 First - Greater than  100\n"
     ]
    }
   ],
   "source": [
    "a =100\n",
    "b = 100\n",
    "if a>=b:\n",
    "    print (a,'First - Greater than ', b)\n",
    "elif b>a:\n",
    "    print (b,'Second - Greater than',a)\n",
    "else:\n",
    "    print (a,'Third and ',b ,'are equal')"
   ]
  },
  {
   "cell_type": "code",
   "execution_count": 14,
   "id": "398872d0",
   "metadata": {},
   "outputs": [
    {
     "name": "stdout",
     "output_type": "stream",
     "text": [
      "300 Greater than 200\n"
     ]
    }
   ],
   "source": [
    "a =300\n",
    "if a <100:\n",
    "    print (a,'Less than 100')\n",
    "elif (100<= a <=200):\n",
    "    print (a,'is between 100 and 200')\n",
    "else:\n",
    "    print (a,'Greater than 200')\n"
   ]
  },
  {
   "cell_type": "code",
   "execution_count": 16,
   "id": "1f1d6dc7",
   "metadata": {},
   "outputs": [
    {
     "name": "stdout",
     "output_type": "stream",
     "text": [
      "40 Less than 100\n",
      "40 is between 20 and 50\n"
     ]
    }
   ],
   "source": [
    "a =40\n",
    "if a <100:\n",
    "    print (a,'Less than 100')\n",
    "    if (50<= a <=100):\n",
    "        print (a,'is between 50 and 100')\n",
    "    elif (20<= a <=50):\n",
    "        print (a,'is between 20 and 50')\n",
    "    else:\n",
    "        print (a,'is less than 20')\n",
    "               \n",
    "elif (20<= a <=200):\n",
    "    print (a,'is between 50 and 200')\n",
    "else:\n",
    "    print (a,'Greater than 200')\n"
   ]
  },
  {
   "cell_type": "code",
   "execution_count": 17,
   "id": "60cfccad",
   "metadata": {},
   "outputs": [
    {
     "name": "stdout",
     "output_type": "stream",
     "text": [
      "150 is smaller than 200\n"
     ]
    }
   ],
   "source": [
    "a = 150\n",
    "b = 200\n",
    "if a<b:\n",
    "    print (a,'is smaller than',b)\n",
    "    if 10 <= a <=100:\n",
    "        print (a,'is between 10 and 100')\n",
    "    elif a<10:\n",
    "        print (a,'is less than 10')    \n",
    "else:\n",
    "    print (a,'is bigger number than',b)\n",
    "\n"
   ]
  },
  {
   "cell_type": "code",
   "execution_count": null,
   "id": "cb494c40",
   "metadata": {},
   "outputs": [],
   "source": [
    "# FOR - For loop , - Add 5 numbers \n",
    "# While - Add numberes till sum reaches 100 "
   ]
  },
  {
   "cell_type": "code",
   "execution_count": 19,
   "id": "42dfcf21",
   "metadata": {},
   "outputs": [
    {
     "name": "stdout",
     "output_type": "stream",
     "text": [
      "Enter the number 10\n"
     ]
    },
    {
     "data": {
      "text/plain": [
       "'10'"
      ]
     },
     "execution_count": 19,
     "metadata": {},
     "output_type": "execute_result"
    }
   ],
   "source": [
    "input ('Enter the number ')"
   ]
  },
  {
   "cell_type": "code",
   "execution_count": 21,
   "id": "a63d92c9",
   "metadata": {},
   "outputs": [
    {
     "name": "stdout",
     "output_type": "stream",
     "text": [
      "Enter the First  number 10\n",
      "Enter the Second number 20\n",
      "10\n",
      "20\n"
     ]
    }
   ],
   "source": [
    "a=  input ('Enter the First  number ')\n",
    "b = input ('Enter the Second number ')\n",
    "print (a)\n",
    "print (b)"
   ]
  },
  {
   "cell_type": "code",
   "execution_count": 23,
   "id": "d5665ea0",
   "metadata": {},
   "outputs": [
    {
     "name": "stdout",
     "output_type": "stream",
     "text": [
      "Enter the First  number 10\n",
      "Enter the Second number 20\n",
      "10\n",
      "20\n",
      "30\n"
     ]
    }
   ],
   "source": [
    "a=  input ('Enter the First  number ')\n",
    "b = input ('Enter the Second number ')\n",
    "c = int (a) +int (b)\n",
    "print (a)\n",
    "print (b)\n",
    "print (c)"
   ]
  },
  {
   "cell_type": "code",
   "execution_count": 25,
   "id": "9604a889",
   "metadata": {},
   "outputs": [
    {
     "name": "stdout",
     "output_type": "stream",
     "text": [
      "Enter the First  number 10\n",
      "Enter the First  number 20\n",
      "Enter the First  number 30\n",
      "Enter the First  number 50\n",
      "Enter the First  number 35\n",
      "Sum  of Five numbers  145\n"
     ]
    }
   ],
   "source": [
    "total = 0\n",
    "for i in range (5):\n",
    "    no=  input ('Enter the First  number ')\n",
    "    total =  total +int (no)\n",
    "print ('Sum  of Five numbers ', total)"
   ]
  },
  {
   "cell_type": "code",
   "execution_count": 26,
   "id": "76c7400a",
   "metadata": {},
   "outputs": [
    {
     "name": "stdout",
     "output_type": "stream",
     "text": [
      "Enter the First  number 85\n",
      "Enter the First  number 25\n",
      "Enter the First  number 63\n",
      "Enter the First  number 74\n",
      "Enter the First  number 96\n",
      "Sum  of Five numbers  343\n"
     ]
    }
   ],
   "source": [
    "total = 0\n",
    "for i in range (5):\n",
    "    no=  input ('Enter the First  number ')\n",
    "    total =  total +int (no)\n",
    "print ('Sum  of Five numbers ', total)"
   ]
  },
  {
   "cell_type": "code",
   "execution_count": 27,
   "id": "61ebfd75",
   "metadata": {},
   "outputs": [
    {
     "name": "stdout",
     "output_type": "stream",
     "text": [
      "Enter the First  number 52\n",
      "Enter the First  number 12\n",
      "Enter the First  number 41\n",
      "Enter the First  number 23\n",
      "Enter the First  number 23\n",
      "Sum  of Five numbers  151\n"
     ]
    }
   ],
   "source": [
    "total = 0\n",
    "for sun in range (5)\n",
    "    no=  input ('Enter the First  number ')\n",
    "    total =  total +int (no)\n",
    "print ('Sum  of Five numbers ', total)"
   ]
  },
  {
   "cell_type": "code",
   "execution_count": 29,
   "id": "d8850634",
   "metadata": {},
   "outputs": [
    {
     "name": "stdout",
     "output_type": "stream",
     "text": [
      "Enter the First  number 50\n",
      "Enter the First  number 80\n",
      "Sum  of Five numbers  130\n"
     ]
    }
   ],
   "source": [
    "total = 0\n",
    "while total <100:\n",
    "    no=  input ('Enter the First  number ')\n",
    "    total =  total +int (no)\n",
    "print ('Sum  of Five numbers ', total)"
   ]
  },
  {
   "cell_type": "code",
   "execution_count": 30,
   "id": "44741006",
   "metadata": {},
   "outputs": [
    {
     "name": "stdout",
     "output_type": "stream",
     "text": [
      "Enter the First  number 150\n",
      "Sum  of Five numbers  150\n"
     ]
    }
   ],
   "source": [
    "total = 0\n",
    "while total <100:\n",
    "    no=  input ('Enter the First  number ')\n",
    "    total =  total +int (no)\n",
    "print ('Sum  of Five numbers ', total)"
   ]
  },
  {
   "cell_type": "code",
   "execution_count": 31,
   "id": "f129cf44",
   "metadata": {},
   "outputs": [
    {
     "name": "stdout",
     "output_type": "stream",
     "text": [
      "Enter the First  number 20\n",
      "Enter the First  number 14\n",
      "Enter the First  number 23\n",
      "Enter the First  number 10\n",
      "Enter the First  number 5\n",
      "Enter the First  number 6\n",
      "Enter the First  number 10\n",
      "Enter the First  number 12\n",
      "Sum  of Five numbers  100\n"
     ]
    }
   ],
   "source": [
    "total = 0\n",
    "while total <100:\n",
    "    no=  input ('Enter the First  number ')\n",
    "    total =  total +int (no)\n",
    "print ('Sum  of Five numbers ', total)"
   ]
  },
  {
   "cell_type": "code",
   "execution_count": 35,
   "id": "3f5bf6d2",
   "metadata": {},
   "outputs": [
    {
     "name": "stdout",
     "output_type": "stream",
     "text": [
      "Enter the First  number 2\n",
      "Enter the First  number 3\n",
      "Enter the First  number 1\n",
      "Enter the First  number 5\n",
      "Sum  of Five numbers  11\n"
     ]
    }
   ],
   "source": [
    "total = 0\n",
    "n =5\n",
    "if sun <n:\n",
    "    for i in range (sun):\n",
    "        no=  input ('Enter the First  number ')\n",
    "        total =  total +int (no)\n",
    "print ('Sum  of Five numbers ', total)"
   ]
  },
  {
   "cell_type": "code",
   "execution_count": 36,
   "id": "cc52bb56",
   "metadata": {},
   "outputs": [
    {
     "name": "stdout",
     "output_type": "stream",
     "text": [
      "Enter the First  number 5\n",
      "Enter the First  number 2\n",
      "Sum  of Five numbers  7\n"
     ]
    }
   ],
   "source": [
    "total = 0\n",
    "n =5\n",
    "if sun <n:\n",
    "    for i in range (2):\n",
    "        no=  input ('Enter the First  number ')\n",
    "        total =  total +int (no)\n",
    "print ('Sum  of Five numbers ', total)"
   ]
  },
  {
   "cell_type": "code",
   "execution_count": 37,
   "id": "85a5fde8",
   "metadata": {},
   "outputs": [
    {
     "name": "stdout",
     "output_type": "stream",
     "text": [
      "Enter the First  number 2\n",
      "Enter the First  number 1\n",
      "Enter the First  number 3\n",
      "Sum  of Five numbers  6\n"
     ]
    }
   ],
   "source": [
    "total = 0\n",
    "n =5\n",
    "m=3\n",
    "if sun <n:\n",
    "    for i in range (m):\n",
    "        no=  input ('Enter the First  number ')\n",
    "        total =  total +int (no)\n",
    "print ('Sum  of Five numbers ', total)"
   ]
  },
  {
   "cell_type": "code",
   "execution_count": 38,
   "id": "0bddf326",
   "metadata": {},
   "outputs": [
    {
     "name": "stdout",
     "output_type": "stream",
     "text": [
      "4\n"
     ]
    }
   ],
   "source": [
    "print (sun)"
   ]
  },
  {
   "cell_type": "code",
   "execution_count": 39,
   "id": "64a395e6",
   "metadata": {},
   "outputs": [
    {
     "name": "stdout",
     "output_type": "stream",
     "text": [
      "Sum  of Five numbers  0\n"
     ]
    }
   ],
   "source": [
    "sun= 10\n",
    "total = 0\n",
    "n =5\n",
    "m=3\n",
    "if sun <n:\n",
    "    for i in range (m):\n",
    "        no=  input ('Enter the First  number ')\n",
    "        total =  total +int (no)\n",
    "print ('Sum  of Five numbers ', total)"
   ]
  },
  {
   "cell_type": "code",
   "execution_count": 40,
   "id": "ebb556f1",
   "metadata": {},
   "outputs": [
    {
     "name": "stdout",
     "output_type": "stream",
     "text": [
      "The number is  1\n",
      "The number is  2\n",
      "The number is  3\n",
      "The number is  4\n",
      "Program end\n"
     ]
    }
   ],
   "source": [
    "a =1\n",
    "while a <5:\n",
    "    print ( 'The number is ',a)\n",
    "    a+=1\n",
    "print ('Program end')\n"
   ]
  },
  {
   "cell_type": "code",
   "execution_count": 41,
   "id": "d7fe9e6f",
   "metadata": {},
   "outputs": [
    {
     "name": "stdout",
     "output_type": "stream",
     "text": [
      "Loop Start\n",
      "2\n",
      "3\n",
      "4\n",
      "5\n",
      "6\n",
      "7\n",
      "8\n",
      "9\n",
      "Loop End \n"
     ]
    }
   ],
   "source": [
    "x = 2\n",
    "print ('Loop Start')\n",
    "while x < 10:\n",
    "    print (x)\n",
    "    x +=1\n",
    "print ('Loop End ')\n"
   ]
  },
  {
   "cell_type": "code",
   "execution_count": 42,
   "id": "e17998d5",
   "metadata": {},
   "outputs": [
    {
     "name": "stdout",
     "output_type": "stream",
     "text": [
      "Loop Start\n",
      "2\n",
      "5\n",
      "8\n",
      "Loop End \n"
     ]
    }
   ],
   "source": [
    "x = 2\n",
    "print ('Loop Start')\n",
    "while x < 10:\n",
    "    print (x)\n",
    "    x +=3\n",
    "print ('Loop End ')"
   ]
  },
  {
   "cell_type": "code",
   "execution_count": 43,
   "id": "38b52187",
   "metadata": {},
   "outputs": [
    {
     "name": "stdout",
     "output_type": "stream",
     "text": [
      "0\n",
      "1\n",
      "2\n",
      "3\n",
      "Good Day\n"
     ]
    }
   ],
   "source": [
    "\n",
    "A = [10,15,20,25]\n",
    "for i in range (len(A)):\n",
    "    print (i)\n",
    "print ('Good Day')\n"
   ]
  },
  {
   "cell_type": "code",
   "execution_count": 44,
   "id": "71b971bd",
   "metadata": {},
   "outputs": [
    {
     "name": "stdout",
     "output_type": "stream",
     "text": [
      "10\n",
      "15\n",
      "20\n",
      "25\n",
      "Good Day\n"
     ]
    }
   ],
   "source": [
    "A = [10,15,20,25]\n",
    "for i in A:\n",
    "    print (i)\n",
    "print ('Good Day')\n"
   ]
  },
  {
   "cell_type": "code",
   "execution_count": 55,
   "id": "7c0983cb",
   "metadata": {},
   "outputs": [
    {
     "name": "stdout",
     "output_type": "stream",
     "text": [
      "i=  2   2 j= 0\n",
      "i=  2   2 j= 1\n",
      "i=  3   3 j= 0\n",
      "i=  3   3 j= 1\n",
      "i=  3   3 j= 2\n",
      "i=  1   1 j= 0\n",
      "i=  5   5 j= 0\n",
      "i=  5   5 j= 1\n",
      "i=  5   5 j= 2\n",
      "i=  5   5 j= 3\n",
      "i=  5   5 j= 4\n",
      "Good Day\n"
     ]
    }
   ],
   "source": [
    "A = [2,3,1,5]\n",
    "for i in A:\n",
    "    for j in range (i):\n",
    "        print ('i= ',i, ' ', i, 'j=',j)\n",
    "print ('Good Day')"
   ]
  },
  {
   "cell_type": "code",
   "execution_count": 56,
   "id": "e91937ed",
   "metadata": {},
   "outputs": [
    {
     "data": {
      "text/plain": [
       "'DayDayDay'"
      ]
     },
     "execution_count": 56,
     "metadata": {},
     "output_type": "execute_result"
    }
   ],
   "source": [
    " 'Day' *3"
   ]
  },
  {
   "cell_type": "code",
   "execution_count": 57,
   "id": "487270b3",
   "metadata": {},
   "outputs": [
    {
     "data": {
      "text/plain": [
       "'Day Day Day Day Day '"
      ]
     },
     "execution_count": 57,
     "metadata": {},
     "output_type": "execute_result"
    }
   ],
   "source": [
    "'Day ' *5"
   ]
  },
  {
   "cell_type": "code",
   "execution_count": 58,
   "id": "658aba00",
   "metadata": {},
   "outputs": [
    {
     "name": "stdout",
     "output_type": "stream",
     "text": [
      "0\n",
      "1\n",
      "4\n",
      "9\n",
      "16\n",
      "25\n",
      "36\n",
      "49\n",
      "64\n",
      "81\n",
      "Good Day\n"
     ]
    }
   ],
   "source": [
    "for i in range (10):\n",
    "    print ((i)*i)\n",
    "    \n",
    "print ('Good Day')"
   ]
  },
  {
   "cell_type": "code",
   "execution_count": 59,
   "id": "34964129",
   "metadata": {},
   "outputs": [
    {
     "data": {
      "text/plain": [
       "''"
      ]
     },
     "execution_count": 59,
     "metadata": {},
     "output_type": "execute_result"
    }
   ],
   "source": [
    " 'Day' *0"
   ]
  },
  {
   "cell_type": "code",
   "execution_count": 50,
   "id": "84d3af78",
   "metadata": {},
   "outputs": [
    {
     "name": "stdout",
     "output_type": "stream",
     "text": [
      "\n",
      "1\n",
      "22\n",
      "333\n",
      "4444\n",
      "55555\n",
      "666666\n",
      "7777777\n",
      "88888888\n",
      "999999999\n",
      "Good Day\n"
     ]
    }
   ],
   "source": [
    "for i in range (10):\n",
    "    print (str(i)*i)\n",
    "    \n",
    "print ('Good Day')\n"
   ]
  },
  {
   "cell_type": "code",
   "execution_count": 60,
   "id": "f5e6d27c",
   "metadata": {},
   "outputs": [
    {
     "name": "stdout",
     "output_type": "stream",
     "text": [
      "Pen\n",
      "    School\n",
      "    College\n",
      "Pencil\n",
      "    School\n",
      "    College\n",
      "Book\n",
      "    School\n",
      "    College\n",
      "Toy\n",
      "    School\n",
      "    College\n"
     ]
    }
   ],
   "source": [
    "A =  ['Pen','Pencil','Book','Toy']\n",
    "B = ['School', 'College']\n",
    "for i in A:\n",
    "    print (i)\n",
    "    for j in B:\n",
    "        print('   ',j)\n"
   ]
  },
  {
   "cell_type": "code",
   "execution_count": 61,
   "id": "c31033b6",
   "metadata": {},
   "outputs": [
    {
     "name": "stdout",
     "output_type": "stream",
     "text": [
      "Pen\n",
      "    School\n",
      "    School\n",
      "    College\n",
      "    College\n",
      "Pencil\n",
      "    School\n",
      "    School\n",
      "    College\n",
      "    College\n",
      "Book\n",
      "    School\n",
      "    School\n",
      "    College\n",
      "    College\n",
      "Toy\n",
      "    School\n",
      "    School\n",
      "    College\n",
      "    College\n"
     ]
    }
   ],
   "source": [
    "A =  ['Pen','Pencil','Book','Toy']\n",
    "B = ['School', 'College']\n",
    "for i in A:\n",
    "    print (i)\n",
    "    for j in B:\n",
    "        print('   ',j)\n",
    "        print('   ',j)\n"
   ]
  },
  {
   "cell_type": "code",
   "execution_count": 62,
   "id": "66b1ae89",
   "metadata": {},
   "outputs": [
    {
     "name": "stdout",
     "output_type": "stream",
     "text": [
      "Pen\n",
      "    School\n",
      "    College\n",
      "Pencil\n",
      "    School\n",
      "    College\n",
      "Book\n",
      "    School\n",
      "    College\n",
      "Toy\n",
      "    School\n",
      "    College\n"
     ]
    }
   ],
   "source": [
    "A =  ['Pen','Pencil','Book','Toy']\n",
    "B = ['School', 'College']\n",
    "for i in A:\n",
    "    print (i)\n",
    "    for j in B:\n",
    "        print('   ',j)\n",
    "        continue\n",
    "        print('   ',j)\n"
   ]
  },
  {
   "cell_type": "code",
   "execution_count": 63,
   "id": "57349e2f",
   "metadata": {},
   "outputs": [
    {
     "name": "stdout",
     "output_type": "stream",
     "text": [
      "Pen\n",
      "    School\n",
      "Pencil\n",
      "    School\n",
      "Book\n",
      "    School\n",
      "Toy\n",
      "    School\n"
     ]
    }
   ],
   "source": [
    "A =  ['Pen','Pencil','Book','Toy']\n",
    "B = ['School', 'College']\n",
    "for i in A:\n",
    "    print (i)\n",
    "    for j in B:\n",
    "        print('   ',j)\n",
    "        break\n",
    "        print('   ',j)\n"
   ]
  },
  {
   "cell_type": "code",
   "execution_count": 64,
   "id": "f133d98c",
   "metadata": {},
   "outputs": [
    {
     "name": "stdout",
     "output_type": "stream",
     "text": [
      "Pen\n",
      "Pencil\n",
      "Book\n",
      "Toy\n"
     ]
    }
   ],
   "source": [
    "A =  ['Pen','Pencil','Book','Toy']\n",
    "B = ['School', 'College']\n",
    "for i in A:\n",
    "    print (i)\n",
    "    continue\n",
    "    for j in B:\n",
    "        print('   ',j)      \n",
    "        print('   ',j)"
   ]
  },
  {
   "cell_type": "code",
   "execution_count": 65,
   "id": "298fccc8",
   "metadata": {},
   "outputs": [
    {
     "name": "stdout",
     "output_type": "stream",
     "text": [
      "Pen\n"
     ]
    }
   ],
   "source": [
    "A =  ['Pen','Pencil','Book','Toy']\n",
    "B = ['School', 'College']\n",
    "for i in A:\n",
    "    print (i)\n",
    "    break\n",
    "    for j in B:\n",
    "        print('   ',j)      \n",
    "        print('   ',j)"
   ]
  },
  {
   "cell_type": "code",
   "execution_count": 69,
   "id": "dd9c20fa",
   "metadata": {},
   "outputs": [
    {
     "name": "stdout",
     "output_type": "stream",
     "text": [
      "['Pen', 'Pencil', 'Book', 'Toy']\n",
      "['School', 'College']\n",
      "['Pen', 'Pencil', 'Book', 'Toy']\n",
      "['School', 'College']\n",
      "['Pen', 'Pencil', 'Book', 'Toy']\n",
      "['School', 'College']\n",
      "['Pen', 'Pencil', 'Book', 'Toy']\n",
      "['School', 'College']\n"
     ]
    }
   ],
   "source": [
    "A =  ['Pen','Pencil','Book','Toy']\n",
    "B = ['School', 'College']\n",
    "for i in A:\n",
    "    pass\n",
    "    print (A)\n",
    "    print (B)\n"
   ]
  },
  {
   "cell_type": "code",
   "execution_count": 72,
   "id": "1ddc4617",
   "metadata": {},
   "outputs": [],
   "source": [
    "def sales ():\n",
    "    qty = 5\n",
    "    price = 50\n",
    "    total = qty * price \n",
    "    print ('Total Cost ',total)"
   ]
  },
  {
   "cell_type": "code",
   "execution_count": 74,
   "id": "38569a8e",
   "metadata": {},
   "outputs": [
    {
     "name": "stdout",
     "output_type": "stream",
     "text": [
      "Total Cost  250\n"
     ]
    }
   ],
   "source": [
    "sales ()"
   ]
  },
  {
   "cell_type": "code",
   "execution_count": 75,
   "id": "1754419b",
   "metadata": {},
   "outputs": [
    {
     "name": "stdout",
     "output_type": "stream",
     "text": [
      "Total Cost  250\n"
     ]
    }
   ],
   "source": [
    "sales ()"
   ]
  },
  {
   "cell_type": "code",
   "execution_count": 76,
   "id": "91027bc1",
   "metadata": {},
   "outputs": [
    {
     "name": "stdout",
     "output_type": "stream",
     "text": [
      "Total Cost  250\n"
     ]
    }
   ],
   "source": [
    "sales ()"
   ]
  },
  {
   "cell_type": "code",
   "execution_count": 78,
   "id": "5db73204",
   "metadata": {},
   "outputs": [],
   "source": [
    "def sales (qty):    \n",
    "    price = 50\n",
    "    total = qty * price \n",
    "    print ('Total Cost ',total)"
   ]
  },
  {
   "cell_type": "code",
   "execution_count": 80,
   "id": "07356866",
   "metadata": {},
   "outputs": [
    {
     "name": "stdout",
     "output_type": "stream",
     "text": [
      "Total Cost  250\n"
     ]
    }
   ],
   "source": [
    "sales (5)"
   ]
  },
  {
   "cell_type": "code",
   "execution_count": 81,
   "id": "5c358e46",
   "metadata": {},
   "outputs": [
    {
     "name": "stdout",
     "output_type": "stream",
     "text": [
      "Total Cost  150\n"
     ]
    }
   ],
   "source": [
    "sales (3)"
   ]
  },
  {
   "cell_type": "code",
   "execution_count": 82,
   "id": "d1f3aadc",
   "metadata": {},
   "outputs": [
    {
     "name": "stdout",
     "output_type": "stream",
     "text": [
      "Total Cost  500\n"
     ]
    }
   ],
   "source": [
    "sales (10)"
   ]
  },
  {
   "cell_type": "code",
   "execution_count": 83,
   "id": "8057a5aa",
   "metadata": {},
   "outputs": [],
   "source": [
    "def sales (qty, price ):    \n",
    "    total = qty * price \n",
    "    print ('Total Cost ',total)"
   ]
  },
  {
   "cell_type": "code",
   "execution_count": 84,
   "id": "8795873c",
   "metadata": {},
   "outputs": [
    {
     "name": "stdout",
     "output_type": "stream",
     "text": [
      "Total Cost  750\n"
     ]
    }
   ],
   "source": [
    "sales (10,75)"
   ]
  },
  {
   "cell_type": "code",
   "execution_count": 85,
   "id": "d35aef44",
   "metadata": {},
   "outputs": [
    {
     "name": "stdout",
     "output_type": "stream",
     "text": [
      "Total Cost  80\n"
     ]
    }
   ],
   "source": [
    "sales (2,40)"
   ]
  },
  {
   "cell_type": "code",
   "execution_count": 86,
   "id": "97624748",
   "metadata": {},
   "outputs": [],
   "source": [
    "def sales (qty, price= 50 ):    \n",
    "    total = qty * price \n",
    "    print ('Total Cost ',total)"
   ]
  },
  {
   "cell_type": "code",
   "execution_count": 87,
   "id": "9f62e3c6",
   "metadata": {},
   "outputs": [
    {
     "name": "stdout",
     "output_type": "stream",
     "text": [
      "Total Cost  1000\n"
     ]
    }
   ],
   "source": [
    "sales (20)"
   ]
  },
  {
   "cell_type": "code",
   "execution_count": 88,
   "id": "cfebef26",
   "metadata": {},
   "outputs": [
    {
     "name": "stdout",
     "output_type": "stream",
     "text": [
      "Total Cost  150\n"
     ]
    }
   ],
   "source": [
    "sales (3)"
   ]
  },
  {
   "cell_type": "code",
   "execution_count": 89,
   "id": "b8242cf6",
   "metadata": {},
   "outputs": [
    {
     "name": "stdout",
     "output_type": "stream",
     "text": [
      "Total Cost  225\n"
     ]
    }
   ],
   "source": [
    "sales (3,75)"
   ]
  },
  {
   "cell_type": "code",
   "execution_count": 90,
   "id": "cc67b4c9",
   "metadata": {},
   "outputs": [],
   "source": [
    "def sales (qty =5, price= 50 ):    \n",
    "    total = qty * price \n",
    "    print ('Total Cost ',total)"
   ]
  },
  {
   "cell_type": "code",
   "execution_count": 91,
   "id": "f18a93d5",
   "metadata": {},
   "outputs": [
    {
     "name": "stdout",
     "output_type": "stream",
     "text": [
      "Total Cost  250\n"
     ]
    }
   ],
   "source": [
    "sales ()"
   ]
  },
  {
   "cell_type": "code",
   "execution_count": 92,
   "id": "89d3ba1d",
   "metadata": {},
   "outputs": [
    {
     "name": "stdout",
     "output_type": "stream",
     "text": [
      "Total Cost  200\n"
     ]
    }
   ],
   "source": [
    "sales (4)"
   ]
  },
  {
   "cell_type": "code",
   "execution_count": 93,
   "id": "f3e5bdf2",
   "metadata": {},
   "outputs": [
    {
     "name": "stdout",
     "output_type": "stream",
     "text": [
      "Total Cost  300\n"
     ]
    }
   ],
   "source": [
    "sales (3,100)"
   ]
  },
  {
   "cell_type": "code",
   "execution_count": 94,
   "id": "6bf3cb48",
   "metadata": {},
   "outputs": [],
   "source": [
    "def sales (qty =5, price= 50 ):    \n",
    "    total = qty * price \n",
    "    print ('Total Cost ',total)"
   ]
  },
  {
   "cell_type": "code",
   "execution_count": 95,
   "id": "00bed0fd",
   "metadata": {},
   "outputs": [
    {
     "name": "stdout",
     "output_type": "stream",
     "text": [
      "Total Cost  500\n"
     ]
    }
   ],
   "source": [
    "sales (price =100)"
   ]
  },
  {
   "cell_type": "code",
   "execution_count": 96,
   "id": "1d2b509c",
   "metadata": {},
   "outputs": [
    {
     "name": "stdout",
     "output_type": "stream",
     "text": [
      "Total Cost  6000\n"
     ]
    }
   ],
   "source": [
    "sales (price =100, qty = 60)"
   ]
  },
  {
   "cell_type": "code",
   "execution_count": 97,
   "id": "d81b849a",
   "metadata": {},
   "outputs": [
    {
     "name": "stdout",
     "output_type": "stream",
     "text": [
      "Total Cost  6000\n"
     ]
    }
   ],
   "source": [
    "s1= sales (price =100, qty = 60)"
   ]
  },
  {
   "cell_type": "code",
   "execution_count": 98,
   "id": "1c2d915c",
   "metadata": {},
   "outputs": [
    {
     "name": "stdout",
     "output_type": "stream",
     "text": [
      "None\n"
     ]
    }
   ],
   "source": [
    "print (s1)"
   ]
  },
  {
   "cell_type": "code",
   "execution_count": 99,
   "id": "3c87c098",
   "metadata": {},
   "outputs": [],
   "source": [
    "def sales (qty =5, price= 50 ):    \n",
    "    total = qty * price \n",
    "    print ('Total Cost ',total)\n",
    "    return (total)"
   ]
  },
  {
   "cell_type": "code",
   "execution_count": 100,
   "id": "19a2cc2b",
   "metadata": {},
   "outputs": [
    {
     "name": "stdout",
     "output_type": "stream",
     "text": [
      "Total Cost  6000\n"
     ]
    }
   ],
   "source": [
    "s1= sales (price =100, qty = 60)"
   ]
  },
  {
   "cell_type": "code",
   "execution_count": 101,
   "id": "03062682",
   "metadata": {},
   "outputs": [
    {
     "name": "stdout",
     "output_type": "stream",
     "text": [
      "6000\n"
     ]
    }
   ],
   "source": [
    "print (s1)"
   ]
  },
  {
   "cell_type": "code",
   "execution_count": 102,
   "id": "8c1c9b03",
   "metadata": {},
   "outputs": [
    {
     "name": "stdout",
     "output_type": "stream",
     "text": [
      "Total Cost  250\n",
      "250\n"
     ]
    }
   ],
   "source": [
    "s2 =sales()\n",
    "print (s2)"
   ]
  },
  {
   "cell_type": "code",
   "execution_count": 103,
   "id": "74552a42",
   "metadata": {},
   "outputs": [
    {
     "name": "stdout",
     "output_type": "stream",
     "text": [
      "6000\n"
     ]
    }
   ],
   "source": [
    "print (s1)"
   ]
  },
  {
   "cell_type": "code",
   "execution_count": 104,
   "id": "a29d9bf1",
   "metadata": {},
   "outputs": [
    {
     "name": "stdout",
     "output_type": "stream",
     "text": [
      "250\n"
     ]
    }
   ],
   "source": [
    "print (s2)"
   ]
  },
  {
   "cell_type": "code",
   "execution_count": 105,
   "id": "59d7a8ca",
   "metadata": {},
   "outputs": [],
   "source": [
    "def sales (qty =5, price= 50 ):    \n",
    "    total = qty * price \n",
    "    print ('Total Cost ',total)\n",
    "    return (total)"
   ]
  },
  {
   "cell_type": "code",
   "execution_count": 108,
   "id": "34e995b7",
   "metadata": {},
   "outputs": [
    {
     "name": "stdout",
     "output_type": "stream",
     "text": [
      "Total Cost  250\n",
      "[250]\n"
     ]
    }
   ],
   "source": [
    "s=[]\n",
    "s.append (sales ())\n",
    "print (s)"
   ]
  },
  {
   "cell_type": "code",
   "execution_count": 109,
   "id": "06067b58",
   "metadata": {},
   "outputs": [
    {
     "name": "stdout",
     "output_type": "stream",
     "text": [
      "Total Cost  500\n",
      "[250, 500]\n"
     ]
    }
   ],
   "source": [
    "s.append (sales (10))\n",
    "print (s)"
   ]
  },
  {
   "cell_type": "code",
   "execution_count": 110,
   "id": "21a34f33",
   "metadata": {},
   "outputs": [
    {
     "name": "stdout",
     "output_type": "stream",
     "text": [
      "Total Cost  375\n",
      "[250, 500, 375]\n"
     ]
    }
   ],
   "source": [
    "s.append (sales (5,75))\n",
    "print (s)"
   ]
  },
  {
   "cell_type": "code",
   "execution_count": 111,
   "id": "d75f628f",
   "metadata": {},
   "outputs": [
    {
     "name": "stdout",
     "output_type": "stream",
     "text": [
      "[250, 500, 375]\n"
     ]
    }
   ],
   "source": [
    "print (s)"
   ]
  },
  {
   "cell_type": "code",
   "execution_count": 112,
   "id": "112cd272",
   "metadata": {},
   "outputs": [],
   "source": [
    "def f1(day1, day2 ):    \n",
    "    print (day1+day2)"
   ]
  },
  {
   "cell_type": "code",
   "execution_count": 113,
   "id": "ced7fda8",
   "metadata": {},
   "outputs": [
    {
     "name": "stdout",
     "output_type": "stream",
     "text": [
      "MonTue\n"
     ]
    }
   ],
   "source": [
    "f1 ('Mon', 'Tue')"
   ]
  },
  {
   "cell_type": "code",
   "execution_count": 114,
   "id": "7a2299b2",
   "metadata": {},
   "outputs": [],
   "source": [
    "def f1(day1 ):    \n",
    "    print (day1)"
   ]
  },
  {
   "cell_type": "code",
   "execution_count": 115,
   "id": "140c5c56",
   "metadata": {},
   "outputs": [
    {
     "name": "stdout",
     "output_type": "stream",
     "text": [
      "[10, 20, 30]\n"
     ]
    }
   ],
   "source": [
    "f1 ([10,20,30])"
   ]
  },
  {
   "cell_type": "code",
   "execution_count": 117,
   "id": "a2c05084",
   "metadata": {},
   "outputs": [],
   "source": [
    "def financials (revenue,expenses):\n",
    "    \"\"\" This function is used to calculate profit and profit ratio\"\"\"\n",
    "    profit = revenue -expenses\n",
    "    profit_ratio = profit/revenue \n",
    "    new_financials = (profit ,profit_ratio)\n",
    "    return (new_financials)\n"
   ]
  },
  {
   "cell_type": "code",
   "execution_count": 118,
   "id": "4503eb58",
   "metadata": {},
   "outputs": [
    {
     "data": {
      "text/plain": [
       "(100, 0.1)"
      ]
     },
     "execution_count": 118,
     "metadata": {},
     "output_type": "execute_result"
    }
   ],
   "source": [
    "financials (1000,900)"
   ]
  },
  {
   "cell_type": "code",
   "execution_count": 119,
   "id": "0182b84d",
   "metadata": {},
   "outputs": [
    {
     "name": "stdout",
     "output_type": "stream",
     "text": [
      "(100, 0.1)\n"
     ]
    }
   ],
   "source": [
    "x = financials (1000,900)\n",
    "print (x)\n"
   ]
  },
  {
   "cell_type": "code",
   "execution_count": 120,
   "id": "0e20ddab",
   "metadata": {},
   "outputs": [
    {
     "name": "stdout",
     "output_type": "stream",
     "text": [
      "Profit  100\n",
      "Profit Ratio  0.1\n"
     ]
    }
   ],
   "source": [
    "print ('Profit ', x[0] )\n",
    "print ('Profit Ratio ', x[1] )\n"
   ]
  },
  {
   "cell_type": "code",
   "execution_count": 122,
   "id": "5c6c4a58",
   "metadata": {},
   "outputs": [],
   "source": [
    "def convertto (deg):\n",
    "    F= (deg*9/5)+32\n",
    "    return (F)\n"
   ]
  },
  {
   "cell_type": "code",
   "execution_count": 123,
   "id": "bbd4ab4d",
   "metadata": {},
   "outputs": [
    {
     "data": {
      "text/plain": [
       "100.4"
      ]
     },
     "execution_count": 123,
     "metadata": {},
     "output_type": "execute_result"
    }
   ],
   "source": [
    "convertto (38)"
   ]
  },
  {
   "cell_type": "code",
   "execution_count": 126,
   "id": "e5c3ea4e",
   "metadata": {},
   "outputs": [
    {
     "data": {
      "text/plain": [
       "68.0"
      ]
     },
     "execution_count": 126,
     "metadata": {},
     "output_type": "execute_result"
    }
   ],
   "source": [
    "convertto (20)"
   ]
  },
  {
   "cell_type": "code",
   "execution_count": 125,
   "id": "7881ee07",
   "metadata": {},
   "outputs": [],
   "source": [
    "def convertto (deg):\n",
    "    F= (deg*9/5)+32\n",
    "    return (F)\n"
   ]
  },
  {
   "cell_type": "code",
   "execution_count": 127,
   "id": "7a2acd5c",
   "metadata": {},
   "outputs": [
    {
     "name": "stdout",
     "output_type": "stream",
     "text": [
      "100.4\n"
     ]
    }
   ],
   "source": [
    "temp = 38\n",
    "temp= convertto (temp)\n",
    "print (temp)\n"
   ]
  },
  {
   "cell_type": "code",
   "execution_count": 128,
   "id": "c247c749",
   "metadata": {},
   "outputs": [],
   "source": [
    "def financials (revenue,expenses):\n",
    "    \"\"\" This function is used to calculate profit and profit ratio\"\"\"\n",
    "    profit = revenue -expenses\n",
    "    profit_ratio = profit/revenue \n",
    "    new_financials = [profit ,profit_ratio]\n",
    "    return (new_financials)\n"
   ]
  },
  {
   "cell_type": "code",
   "execution_count": 129,
   "id": "e8347def",
   "metadata": {},
   "outputs": [
    {
     "name": "stdout",
     "output_type": "stream",
     "text": [
      "[100, 0.1]\n"
     ]
    }
   ],
   "source": [
    "x = financials (1000,900)\n",
    "print (x)\n"
   ]
  },
  {
   "cell_type": "code",
   "execution_count": 130,
   "id": "608d3c5b",
   "metadata": {},
   "outputs": [
    {
     "name": "stdout",
     "output_type": "stream",
     "text": [
      "<class 'list'>\n"
     ]
    }
   ],
   "source": [
    "print (type(x))"
   ]
  },
  {
   "cell_type": "code",
   "execution_count": 131,
   "id": "1d885f83",
   "metadata": {},
   "outputs": [
    {
     "data": {
      "text/plain": [
       "[10, 20, 30, 40, 50, 60, 70]"
      ]
     },
     "execution_count": 131,
     "metadata": {},
     "output_type": "execute_result"
    }
   ],
   "source": [
    "list1 = [10,20,30,40,50,60,70]\n",
    "list1"
   ]
  },
  {
   "cell_type": "code",
   "execution_count": 132,
   "id": "b6ad25ce",
   "metadata": {},
   "outputs": [
    {
     "data": {
      "text/plain": [
       "[10, 20, 30, 40, 50, 60, 70, 'Sat']"
      ]
     },
     "execution_count": 132,
     "metadata": {},
     "output_type": "execute_result"
    }
   ],
   "source": [
    "list1 = [10,20,30,40,50,60,70, 'Sat', ]\n",
    "list1"
   ]
  },
  {
   "cell_type": "code",
   "execution_count": 133,
   "id": "b03395a2",
   "metadata": {},
   "outputs": [
    {
     "data": {
      "text/plain": [
       "[10, 20, 30, 40, True, 50, 60, 70, 'Sat']"
      ]
     },
     "execution_count": 133,
     "metadata": {},
     "output_type": "execute_result"
    }
   ],
   "source": [
    "list1 = [10,20,30,40,True ,50,60,70, 'Sat', ]\n",
    "list1"
   ]
  },
  {
   "cell_type": "code",
   "execution_count": 135,
   "id": "33f9b21d",
   "metadata": {},
   "outputs": [
    {
     "data": {
      "text/plain": [
       "[10, 20, 30, 40, True, 50, [10, 20, 30], 60, 70, 'Sat']"
      ]
     },
     "execution_count": 135,
     "metadata": {},
     "output_type": "execute_result"
    }
   ],
   "source": [
    "list1 = [10,20,30,40,True ,50,[10,20,30],60,70, 'Sat', ]\n",
    "list1"
   ]
  },
  {
   "cell_type": "code",
   "execution_count": 136,
   "id": "881819e7",
   "metadata": {},
   "outputs": [
    {
     "data": {
      "text/plain": [
       "10"
      ]
     },
     "execution_count": 136,
     "metadata": {},
     "output_type": "execute_result"
    }
   ],
   "source": [
    "len (list1)"
   ]
  },
  {
   "cell_type": "code",
   "execution_count": 137,
   "id": "7a10030f",
   "metadata": {},
   "outputs": [
    {
     "name": "stdout",
     "output_type": "stream",
     "text": [
      "20\n"
     ]
    }
   ],
   "source": [
    "list1 = [10,20,30,40,50,60,70]\n",
    "print (list1[1])\n"
   ]
  },
  {
   "cell_type": "code",
   "execution_count": 138,
   "id": "79719ca1",
   "metadata": {},
   "outputs": [
    {
     "name": "stdout",
     "output_type": "stream",
     "text": [
      "[10, 20, 30]\n"
     ]
    }
   ],
   "source": [
    "print (list1[0:3])"
   ]
  },
  {
   "cell_type": "code",
   "execution_count": 139,
   "id": "03ec2abf",
   "metadata": {},
   "outputs": [
    {
     "name": "stdout",
     "output_type": "stream",
     "text": [
      "70\n"
     ]
    }
   ],
   "source": [
    "print (list1[-1])"
   ]
  },
  {
   "cell_type": "code",
   "execution_count": 140,
   "id": "b49367fa",
   "metadata": {},
   "outputs": [
    {
     "name": "stdout",
     "output_type": "stream",
     "text": [
      "40\n"
     ]
    }
   ],
   "source": [
    "print (list1[-4])"
   ]
  },
  {
   "cell_type": "code",
   "execution_count": 142,
   "id": "e750b702",
   "metadata": {},
   "outputs": [],
   "source": [
    "list1 = [10,20,30,40,50,60,70]"
   ]
  },
  {
   "cell_type": "code",
   "execution_count": 143,
   "id": "c0d50392",
   "metadata": {},
   "outputs": [
    {
     "name": "stdout",
     "output_type": "stream",
     "text": [
      "[40, 50]\n"
     ]
    }
   ],
   "source": [
    "print (list1[-4 : -2])"
   ]
  },
  {
   "cell_type": "code",
   "execution_count": 144,
   "id": "5f2157ca",
   "metadata": {},
   "outputs": [
    {
     "name": "stdout",
     "output_type": "stream",
     "text": [
      "[40, 50, 60, 70]\n"
     ]
    }
   ],
   "source": [
    "print (list1[-4 : ])"
   ]
  },
  {
   "cell_type": "code",
   "execution_count": 145,
   "id": "5a761aec",
   "metadata": {},
   "outputs": [
    {
     "data": {
      "text/plain": [
       "[10, 20, 30, 40, 50, 60, 70]"
      ]
     },
     "execution_count": 145,
     "metadata": {},
     "output_type": "execute_result"
    }
   ],
   "source": [
    "list1"
   ]
  },
  {
   "cell_type": "code",
   "execution_count": 146,
   "id": "bdd0126b",
   "metadata": {},
   "outputs": [
    {
     "data": {
      "text/plain": [
       "[100, 110, 120]"
      ]
     },
     "execution_count": 146,
     "metadata": {},
     "output_type": "execute_result"
    }
   ],
   "source": [
    "list2 = [100,110,120]\n",
    "list2"
   ]
  },
  {
   "cell_type": "code",
   "execution_count": 147,
   "id": "a4dac25c",
   "metadata": {},
   "outputs": [
    {
     "name": "stdout",
     "output_type": "stream",
     "text": [
      "[10, 20, 30, 40, 50, 60, 70, 100, 110, 120, 50, 51, 52]\n"
     ]
    }
   ],
   "source": [
    "print (list1+list2+[50,51,52])"
   ]
  },
  {
   "cell_type": "code",
   "execution_count": 149,
   "id": "a40bc00a",
   "metadata": {},
   "outputs": [
    {
     "data": {
      "text/plain": [
       "[100, 110, 120]"
      ]
     },
     "execution_count": 149,
     "metadata": {},
     "output_type": "execute_result"
    }
   ],
   "source": [
    "list2"
   ]
  },
  {
   "cell_type": "code",
   "execution_count": 150,
   "id": "dd73f3bc",
   "metadata": {},
   "outputs": [
    {
     "name": "stdout",
     "output_type": "stream",
     "text": [
      "[100, 110, 120, 100, 110, 120, 100, 110, 120]\n"
     ]
    }
   ],
   "source": [
    "print (list2 * 3)"
   ]
  },
  {
   "cell_type": "code",
   "execution_count": 151,
   "id": "52209904",
   "metadata": {},
   "outputs": [
    {
     "name": "stdout",
     "output_type": "stream",
     "text": [
      "False\n"
     ]
    }
   ],
   "source": [
    "print (150 in list2)"
   ]
  },
  {
   "cell_type": "code",
   "execution_count": 152,
   "id": "e7bbdba4",
   "metadata": {},
   "outputs": [
    {
     "data": {
      "text/plain": [
       "[100, 110, 120]"
      ]
     },
     "execution_count": 152,
     "metadata": {},
     "output_type": "execute_result"
    }
   ],
   "source": [
    "list2"
   ]
  },
  {
   "cell_type": "code",
   "execution_count": 153,
   "id": "09865c7c",
   "metadata": {},
   "outputs": [
    {
     "name": "stdout",
     "output_type": "stream",
     "text": [
      "True\n"
     ]
    }
   ],
   "source": [
    "print (100 in list2)"
   ]
  },
  {
   "cell_type": "code",
   "execution_count": 154,
   "id": "b6ca9c70",
   "metadata": {},
   "outputs": [],
   "source": [
    "l1 = [10,20,30,40,50]"
   ]
  },
  {
   "cell_type": "code",
   "execution_count": 155,
   "id": "aa61c497",
   "metadata": {},
   "outputs": [
    {
     "ename": "NameError",
     "evalue": "name 'l1' is not defined",
     "output_type": "error",
     "traceback": [
      "\u001b[1;31m---------------------------------------------------------------------------\u001b[0m",
      "\u001b[1;31mNameError\u001b[0m                                 Traceback (most recent call last)",
      "Cell \u001b[1;32mIn [155], line 3\u001b[0m\n\u001b[0;32m      1\u001b[0m l1 \u001b[38;5;241m=\u001b[39m [\u001b[38;5;241m10\u001b[39m,\u001b[38;5;241m20\u001b[39m,\u001b[38;5;241m30\u001b[39m,\u001b[38;5;241m40\u001b[39m,\u001b[38;5;241m50\u001b[39m]\n\u001b[0;32m      2\u001b[0m \u001b[38;5;28;01mdel\u001b[39;00m (l1)\n\u001b[1;32m----> 3\u001b[0m \u001b[38;5;28mprint\u001b[39m (\u001b[43ml1\u001b[49m)\n",
      "\u001b[1;31mNameError\u001b[0m: name 'l1' is not defined"
     ]
    }
   ],
   "source": [
    "l1 = [10,20,30,40,50]\n",
    "del (l1)\n",
    "print (l1)"
   ]
  },
  {
   "cell_type": "code",
   "execution_count": 156,
   "id": "e09f8128",
   "metadata": {},
   "outputs": [
    {
     "name": "stdout",
     "output_type": "stream",
     "text": [
      "[10, 30, 40, 50]\n"
     ]
    }
   ],
   "source": [
    "l1 = [10,20,30,40,50]\n",
    "del (l1[1])\n",
    "print (l1)"
   ]
  },
  {
   "cell_type": "code",
   "execution_count": 157,
   "id": "69ed240d",
   "metadata": {},
   "outputs": [
    {
     "name": "stdout",
     "output_type": "stream",
     "text": [
      "[10, 40, 50]\n"
     ]
    }
   ],
   "source": [
    "l1 = [10,20,30,40,50]\n",
    "del (l1[1:3])\n",
    "print (l1)"
   ]
  },
  {
   "cell_type": "code",
   "execution_count": 158,
   "id": "c4df2f6d",
   "metadata": {},
   "outputs": [
    {
     "name": "stdout",
     "output_type": "stream",
     "text": [
      "[]\n"
     ]
    }
   ],
   "source": [
    "l1 = [10,20,30,40,50]\n",
    "del (l1[:])\n",
    "print (l1)"
   ]
  },
  {
   "cell_type": "code",
   "execution_count": 159,
   "id": "9985329e",
   "metadata": {},
   "outputs": [
    {
     "name": "stdout",
     "output_type": "stream",
     "text": [
      "[]\n"
     ]
    }
   ],
   "source": [
    "l1 = [10,20,30,40,50]\n",
    "l1.clear()\n",
    "print (l1)"
   ]
  },
  {
   "cell_type": "code",
   "execution_count": 161,
   "id": "0bcb179b",
   "metadata": {},
   "outputs": [
    {
     "name": "stdout",
     "output_type": "stream",
     "text": [
      "[10, 30, 40, 50]\n"
     ]
    }
   ],
   "source": [
    "l1 = [10,20,30,40,50]\n",
    "l1.remove (20)\n",
    "print (l1)"
   ]
  },
  {
   "cell_type": "code",
   "execution_count": 163,
   "id": "39a2b40a",
   "metadata": {},
   "outputs": [
    {
     "name": "stdout",
     "output_type": "stream",
     "text": [
      "[10, 20, 40, 50]\n",
      "30\n"
     ]
    }
   ],
   "source": [
    "l1 = [10,20,30,40,50]\n",
    "m = l1.pop (2)\n",
    "print (l1)\n",
    "print (m)"
   ]
  },
  {
   "cell_type": "code",
   "execution_count": 164,
   "id": "c2ca1280",
   "metadata": {},
   "outputs": [
    {
     "data": {
      "text/plain": [
       "30"
      ]
     },
     "execution_count": 164,
     "metadata": {},
     "output_type": "execute_result"
    }
   ],
   "source": [
    "m"
   ]
  },
  {
   "cell_type": "code",
   "execution_count": 166,
   "id": "a713f10b",
   "metadata": {},
   "outputs": [
    {
     "name": "stdout",
     "output_type": "stream",
     "text": [
      "[10, 20, 30, 40, 50, 10]\n"
     ]
    }
   ],
   "source": [
    "l1 = [10,20,30,40,50]\n",
    "l1.append (10)\n",
    "print (l1)"
   ]
  },
  {
   "cell_type": "code",
   "execution_count": 168,
   "id": "b050ffff",
   "metadata": {},
   "outputs": [
    {
     "name": "stdout",
     "output_type": "stream",
     "text": [
      "[10, 20, 30, 40, 50, 10, [10, 20]]\n"
     ]
    }
   ],
   "source": [
    "l1.append ([10,20])\n",
    "print (l1)"
   ]
  },
  {
   "cell_type": "code",
   "execution_count": 170,
   "id": "d48280b2",
   "metadata": {},
   "outputs": [
    {
     "name": "stdout",
     "output_type": "stream",
     "text": [
      "[55, 10, 20, 30, 40, 50]\n"
     ]
    }
   ],
   "source": [
    "l1 = [10,20,30,40,50]\n",
    "l1.insert  (0, 55)\n",
    "print (l1)"
   ]
  },
  {
   "cell_type": "code",
   "execution_count": 171,
   "id": "f8631fe4",
   "metadata": {},
   "outputs": [
    {
     "name": "stdout",
     "output_type": "stream",
     "text": [
      "[55, 55, 10, 20, 30, 40, 50]\n"
     ]
    }
   ],
   "source": [
    "l1.insert  (0, 55)\n",
    "print (l1)"
   ]
  },
  {
   "cell_type": "code",
   "execution_count": 173,
   "id": "ea7de55e",
   "metadata": {},
   "outputs": [
    {
     "name": "stdout",
     "output_type": "stream",
     "text": [
      "[10, 20, 30, 40, 50, 20, 21, 22]\n"
     ]
    }
   ],
   "source": [
    "l1 = [10,20,30,40,50]\n",
    "l1.extend ([20,21,22])\n",
    "print (l1)"
   ]
  },
  {
   "cell_type": "code",
   "execution_count": 174,
   "id": "8c15ff49",
   "metadata": {},
   "outputs": [
    {
     "name": "stdout",
     "output_type": "stream",
     "text": [
      "[2, 4, 6, 8, 10]\n"
     ]
    }
   ],
   "source": [
    "list1 = []\n",
    "for x in [1,2,3,4,5]:\n",
    "    list1.append (x * 2)\n",
    "print (list1)\n"
   ]
  },
  {
   "cell_type": "code",
   "execution_count": 175,
   "id": "1f4a8d79",
   "metadata": {},
   "outputs": [
    {
     "data": {
      "text/plain": [
       "[2, 4, 6, 8, 10]"
      ]
     },
     "execution_count": 175,
     "metadata": {},
     "output_type": "execute_result"
    }
   ],
   "source": [
    "[x * 2 for x in [1,2,3,4,5]]"
   ]
  },
  {
   "cell_type": "code",
   "execution_count": 176,
   "id": "b907310f",
   "metadata": {},
   "outputs": [
    {
     "name": "stdout",
     "output_type": "stream",
     "text": [
      "['Rick', 'Jim', 'Mark', 'Jack', 'Ken']\n",
      "['Jack', 'Jim', 'Ken', 'Mark', 'Rick']\n"
     ]
    }
   ],
   "source": [
    "list1 = ['Rick','Jim','Mark','Jack','Ken']\n",
    "list2 = sorted (list1)\n",
    "print (list1)\n",
    "print (list2)\n"
   ]
  },
  {
   "cell_type": "code",
   "execution_count": 177,
   "id": "6fbc6d16",
   "metadata": {},
   "outputs": [
    {
     "name": "stdout",
     "output_type": "stream",
     "text": [
      "['Rick', 'Jim', 'ann', 'Mark', 'Jack', 'Ken']\n",
      "['Jack', 'Jim', 'Ken', 'Mark', 'Rick', 'ann']\n"
     ]
    }
   ],
   "source": [
    "list1 = ['Rick','Jim','ann','Mark','Jack','Ken']\n",
    "list2 = sorted (list1)\n",
    "print (list1)\n",
    "print (list2)"
   ]
  },
  {
   "cell_type": "code",
   "execution_count": 178,
   "id": "d20e4145",
   "metadata": {},
   "outputs": [
    {
     "name": "stdout",
     "output_type": "stream",
     "text": [
      "['Rick', 'Jim', 'Mark', '10', '50', '60', 'Jack', 'jack', 'Ken']\n",
      "['10', '50', '60', 'Jack', 'Jim', 'Ken', 'Mark', 'Rick', 'jack']\n"
     ]
    }
   ],
   "source": [
    "list1 = ['Rick','Jim','Mark','10','50','60','Jack','jack','Ken']\n",
    "list2 = sorted (list1)\n",
    "print (list1)\n",
    "print (list2)\n"
   ]
  },
  {
   "cell_type": "code",
   "execution_count": 179,
   "id": "48bad09a",
   "metadata": {},
   "outputs": [
    {
     "ename": "TypeError",
     "evalue": "'<' not supported between instances of 'int' and 'str'",
     "output_type": "error",
     "traceback": [
      "\u001b[1;31m---------------------------------------------------------------------------\u001b[0m",
      "\u001b[1;31mTypeError\u001b[0m                                 Traceback (most recent call last)",
      "Cell \u001b[1;32mIn [179], line 2\u001b[0m\n\u001b[0;32m      1\u001b[0m list1 \u001b[38;5;241m=\u001b[39m [\u001b[38;5;124m'\u001b[39m\u001b[38;5;124mRick\u001b[39m\u001b[38;5;124m'\u001b[39m,\u001b[38;5;124m'\u001b[39m\u001b[38;5;124mJim\u001b[39m\u001b[38;5;124m'\u001b[39m,\u001b[38;5;124m'\u001b[39m\u001b[38;5;124mMark\u001b[39m\u001b[38;5;124m'\u001b[39m,\u001b[38;5;124m'\u001b[39m\u001b[38;5;124m10\u001b[39m\u001b[38;5;124m'\u001b[39m,\u001b[38;5;124m'\u001b[39m\u001b[38;5;124m50\u001b[39m\u001b[38;5;124m'\u001b[39m,\u001b[38;5;241m500\u001b[39m,\u001b[38;5;124m'\u001b[39m\u001b[38;5;124m60\u001b[39m\u001b[38;5;124m'\u001b[39m,\u001b[38;5;124m'\u001b[39m\u001b[38;5;124mJack\u001b[39m\u001b[38;5;124m'\u001b[39m,\u001b[38;5;124m'\u001b[39m\u001b[38;5;124mjack\u001b[39m\u001b[38;5;124m'\u001b[39m,\u001b[38;5;124m'\u001b[39m\u001b[38;5;124mKen\u001b[39m\u001b[38;5;124m'\u001b[39m]\n\u001b[1;32m----> 2\u001b[0m list2 \u001b[38;5;241m=\u001b[39m \u001b[38;5;28;43msorted\u001b[39;49m\u001b[43m \u001b[49m\u001b[43m(\u001b[49m\u001b[43mlist1\u001b[49m\u001b[43m)\u001b[49m\n\u001b[0;32m      3\u001b[0m \u001b[38;5;28mprint\u001b[39m (list1)\n\u001b[0;32m      4\u001b[0m \u001b[38;5;28mprint\u001b[39m (list2)\n",
      "\u001b[1;31mTypeError\u001b[0m: '<' not supported between instances of 'int' and 'str'"
     ]
    }
   ],
   "source": [
    "list1 = ['Rick','Jim','Mark','10','50',500,'60','Jack','jack','Ken']\n",
    "list2 = sorted (list1)\n",
    "print (list1)\n",
    "print (list2)"
   ]
  },
  {
   "cell_type": "code",
   "execution_count": 182,
   "id": "9fec38fc",
   "metadata": {},
   "outputs": [
    {
     "name": "stdout",
     "output_type": "stream",
     "text": [
      "[2, 4, 6, 8, 10]\n"
     ]
    }
   ],
   "source": [
    "print ([x * 2 for x in [1,2,3,4,5]])"
   ]
  },
  {
   "cell_type": "code",
   "execution_count": 185,
   "id": "947237ac",
   "metadata": {},
   "outputs": [],
   "source": [
    "a =50\n",
    "b =60"
   ]
  },
  {
   "cell_type": "code",
   "execution_count": 187,
   "id": "d057a323",
   "metadata": {},
   "outputs": [
    {
     "name": "stdout",
     "output_type": "stream",
     "text": [
      "50\n",
      "60\n"
     ]
    }
   ],
   "source": [
    "print (a)\n",
    "print (b)"
   ]
  },
  {
   "cell_type": "code",
   "execution_count": 188,
   "id": "40555168",
   "metadata": {},
   "outputs": [
    {
     "name": "stdout",
     "output_type": "stream",
     "text": [
      "['AABC', 'ABC', 'AAAA']\n",
      "['AAAA', 'AABC', 'ABC']\n"
     ]
    }
   ],
   "source": [
    "list1 = ['AABC','ABC','AAAA']\n",
    "list2 = sorted (list1)\n",
    "print (list1)\n",
    "print (list2)\n"
   ]
  },
  {
   "cell_type": "code",
   "execution_count": 189,
   "id": "e5c6350f",
   "metadata": {},
   "outputs": [
    {
     "name": "stdout",
     "output_type": "stream",
     "text": [
      "['AABC', 'A5BC', 'AAAA']\n",
      "['A5BC', 'AAAA', 'AABC']\n"
     ]
    }
   ],
   "source": [
    "list1 = ['AABC','A5BC','AAAA']\n",
    "list2 = sorted (list1)\n",
    "print (list1)\n",
    "print (list2)"
   ]
  },
  {
   "cell_type": "code",
   "execution_count": 190,
   "id": "f7826576",
   "metadata": {},
   "outputs": [
    {
     "name": "stdout",
     "output_type": "stream",
     "text": [
      "[10, 12, 12, 15, 20, 22, 30, 40]\n",
      "[10, 20, 30, 15, 12, 40, 22, 12]\n",
      "[10, 12, 12, 15, 20, 22, 30, 40]\n"
     ]
    }
   ],
   "source": [
    "x = [10,20,30,15,12,40,22,12]\n",
    "print (sorted(x)) # Sorted order\n",
    "sortx= sorted(x)\n",
    "print (x) # No change to original list\n",
    "print (sortx)\n"
   ]
  },
  {
   "cell_type": "code",
   "execution_count": 191,
   "id": "ad3d4bff",
   "metadata": {},
   "outputs": [
    {
     "name": "stdout",
     "output_type": "stream",
     "text": [
      "[10, 20, 30, 15, 12, 40, 22, 12]\n"
     ]
    }
   ],
   "source": [
    "print (x)"
   ]
  },
  {
   "cell_type": "code",
   "execution_count": 192,
   "id": "3d6dcff7",
   "metadata": {},
   "outputs": [
    {
     "name": "stdout",
     "output_type": "stream",
     "text": [
      "None\n",
      "[10, 12, 12, 15, 20, 22, 30, 40]\n",
      "None\n"
     ]
    }
   ],
   "source": [
    "x = [10,20,30,15,12,40,22,12]\n",
    "print (x.sort()) # Return None \n",
    "sortx= x.sort() # Not able to assign \n",
    "print (x) # x Sorted \n",
    "print (sortx)\n"
   ]
  },
  {
   "cell_type": "code",
   "execution_count": 193,
   "id": "2f333e74",
   "metadata": {},
   "outputs": [
    {
     "name": "stdout",
     "output_type": "stream",
     "text": [
      "[10, 12, 12, 15, 20, 22, 30, 40]\n"
     ]
    }
   ],
   "source": [
    "print (x)"
   ]
  },
  {
   "cell_type": "code",
   "execution_count": 195,
   "id": "8dca6ab7",
   "metadata": {},
   "outputs": [
    {
     "data": {
      "text/plain": [
       "[10, 20, 30, 15, 12, 40, 22, 12]"
      ]
     },
     "execution_count": 195,
     "metadata": {},
     "output_type": "execute_result"
    }
   ],
   "source": [
    "x = [10,20,30,15,12,40,22,12]\n",
    "x"
   ]
  },
  {
   "cell_type": "code",
   "execution_count": 196,
   "id": "b8568acc",
   "metadata": {},
   "outputs": [
    {
     "name": "stdout",
     "output_type": "stream",
     "text": [
      "[12, 22, 40, 12, 15, 30, 20, 10]\n"
     ]
    }
   ],
   "source": [
    "print (x[::-1])"
   ]
  },
  {
   "cell_type": "code",
   "execution_count": 197,
   "id": "3602b027",
   "metadata": {},
   "outputs": [
    {
     "name": "stdout",
     "output_type": "stream",
     "text": [
      "[12, 15]\n"
     ]
    }
   ],
   "source": [
    "print (x[4:2:-1])"
   ]
  },
  {
   "cell_type": "code",
   "execution_count": 198,
   "id": "936ce310",
   "metadata": {},
   "outputs": [
    {
     "name": "stdout",
     "output_type": "stream",
     "text": [
      "[10, 20, 30, 15, 12, 40, 22, 12]\n"
     ]
    }
   ],
   "source": [
    "print (x)"
   ]
  },
  {
   "cell_type": "code",
   "execution_count": 199,
   "id": "4575c238",
   "metadata": {},
   "outputs": [
    {
     "name": "stdout",
     "output_type": "stream",
     "text": [
      "[12, 15]\n"
     ]
    }
   ],
   "source": [
    "print (x[4:2:-1])"
   ]
  },
  {
   "cell_type": "code",
   "execution_count": 201,
   "id": "ce0e4ec4",
   "metadata": {},
   "outputs": [
    {
     "data": {
      "text/plain": [
       "1"
      ]
     },
     "execution_count": 201,
     "metadata": {},
     "output_type": "execute_result"
    }
   ],
   "source": [
    "nums = [23, 22, 44, 17, 77, 55, 1, 65, 82, 2]\n",
    "num_min = min(nums)\n",
    "num_min"
   ]
  },
  {
   "cell_type": "code",
   "execution_count": 202,
   "id": "da5757c0",
   "metadata": {},
   "outputs": [
    {
     "data": {
      "text/plain": [
       "82"
      ]
     },
     "execution_count": 202,
     "metadata": {},
     "output_type": "execute_result"
    }
   ],
   "source": [
    "nums = [23, 22, 44, 17, 77, 55, 1, 65, 82, 2]\n",
    "num_min = max(nums)\n",
    "num_min"
   ]
  },
  {
   "cell_type": "code",
   "execution_count": 203,
   "id": "dee7ccc3",
   "metadata": {},
   "outputs": [
    {
     "data": {
      "text/plain": [
       "388"
      ]
     },
     "execution_count": 203,
     "metadata": {},
     "output_type": "execute_result"
    }
   ],
   "source": [
    "nums = [23, 22, 44, 17, 77, 55, 1, 65, 82, 2]\n",
    "num_min = sum(nums)\n",
    "num_min"
   ]
  },
  {
   "cell_type": "code",
   "execution_count": 204,
   "id": "afcaf027",
   "metadata": {},
   "outputs": [
    {
     "name": "stdout",
     "output_type": "stream",
     "text": [
      "['Red', 'Blue', 'Green', 'Black', 'White']\n"
     ]
    }
   ],
   "source": [
    "colors = ['Red', 'Blue', 'Green', 'Black', 'White']\n",
    "copy_of_colors = colors[:]\n",
    "print (copy_of_colors)\n"
   ]
  },
  {
   "cell_type": "code",
   "execution_count": 205,
   "id": "e5c73ca9",
   "metadata": {},
   "outputs": [
    {
     "data": {
      "text/plain": [
       "1999765719744"
      ]
     },
     "execution_count": 205,
     "metadata": {},
     "output_type": "execute_result"
    }
   ],
   "source": [
    "id (colors)"
   ]
  },
  {
   "cell_type": "code",
   "execution_count": 206,
   "id": "e31723c8",
   "metadata": {},
   "outputs": [
    {
     "data": {
      "text/plain": [
       "1999765420992"
      ]
     },
     "execution_count": 206,
     "metadata": {},
     "output_type": "execute_result"
    }
   ],
   "source": [
    "id (copy_of_colors )"
   ]
  },
  {
   "cell_type": "code",
   "execution_count": 207,
   "id": "85157b2c",
   "metadata": {},
   "outputs": [
    {
     "name": "stdout",
     "output_type": "stream",
     "text": [
      "[1, 4, 9, 16, 25, 36, 49, 64, 81, 100]\n"
     ]
    }
   ],
   "source": [
    "squr = []\n",
    "for x in range(1, 11):\n",
    "    sq= x**2\n",
    "    squr.append(sq)\n",
    "    \n",
    "print (squr)\n"
   ]
  },
  {
   "cell_type": "code",
   "execution_count": 208,
   "id": "1791263e",
   "metadata": {},
   "outputs": [
    {
     "name": "stdout",
     "output_type": "stream",
     "text": [
      "[1, 4, 9, 16, 25, 36, 49, 64, 81, 100]\n"
     ]
    }
   ],
   "source": [
    "squr = [x**2 for x in range(1, 11)]\n",
    "print (squr)\n"
   ]
  },
  {
   "cell_type": "code",
   "execution_count": 210,
   "id": "213626b5",
   "metadata": {},
   "outputs": [
    {
     "data": {
      "text/plain": [
       "['RED', 'BLUE', 'GREEN', 'BLACK', 'WHITE']"
      ]
     },
     "execution_count": 210,
     "metadata": {},
     "output_type": "execute_result"
    }
   ],
   "source": [
    "colors = ['Red', 'Blue', 'Green', 'Black', 'White']\n",
    "upper_cols = []\n",
    "for cols in colors:\n",
    "    upper_cols.append(cols.upper())\n",
    "upper_cols"
   ]
  },
  {
   "cell_type": "code",
   "execution_count": 211,
   "id": "3d3d2825",
   "metadata": {},
   "outputs": [
    {
     "data": {
      "text/plain": [
       "['red', 'blue', 'green', 'black', 'white']"
      ]
     },
     "execution_count": 211,
     "metadata": {},
     "output_type": "execute_result"
    }
   ],
   "source": [
    "colors = ['Red', 'Blue', 'Green', 'Black', 'White']\n",
    "upper_cols = []\n",
    "for cols in colors:\n",
    "    upper_cols.append(cols.lower())\n",
    "upper_cols"
   ]
  },
  {
   "cell_type": "code",
   "execution_count": 212,
   "id": "72734829",
   "metadata": {},
   "outputs": [
    {
     "name": "stdout",
     "output_type": "stream",
     "text": [
      "Python version\n",
      "3.9.15 (main, Nov 24 2022, 14:39:17) [MSC v.1916 64 bit (AMD64)]\n",
      "Version info.\n",
      "sys.version_info(major=3, minor=9, micro=15, releaselevel='final', serial=0)\n"
     ]
    }
   ],
   "source": [
    "import sys\n",
    "print(\"Python version\")\n",
    "print (sys.version)\n",
    "print(\"Version info.\")\n",
    "print (sys.version_info)\n"
   ]
  },
  {
   "cell_type": "code",
   "execution_count": 213,
   "id": "17014625",
   "metadata": {},
   "outputs": [
    {
     "data": {
      "text/plain": [
       "['__breakpointhook__',\n",
       " '__displayhook__',\n",
       " '__doc__',\n",
       " '__excepthook__',\n",
       " '__interactivehook__',\n",
       " '__loader__',\n",
       " '__name__',\n",
       " '__package__',\n",
       " '__spec__',\n",
       " '__stderr__',\n",
       " '__stdin__',\n",
       " '__stdout__',\n",
       " '__unraisablehook__',\n",
       " '_base_executable',\n",
       " '_clear_type_cache',\n",
       " '_current_frames',\n",
       " '_debugmallocstats',\n",
       " '_enablelegacywindowsfsencoding',\n",
       " '_framework',\n",
       " '_getframe',\n",
       " '_git',\n",
       " '_home',\n",
       " '_xoptions',\n",
       " 'addaudithook',\n",
       " 'api_version',\n",
       " 'argv',\n",
       " 'audit',\n",
       " 'base_exec_prefix',\n",
       " 'base_prefix',\n",
       " 'breakpointhook',\n",
       " 'builtin_module_names',\n",
       " 'byteorder',\n",
       " 'call_tracing',\n",
       " 'copyright',\n",
       " 'displayhook',\n",
       " 'dllhandle',\n",
       " 'dont_write_bytecode',\n",
       " 'exc_info',\n",
       " 'excepthook',\n",
       " 'exec_prefix',\n",
       " 'executable',\n",
       " 'exit',\n",
       " 'flags',\n",
       " 'float_info',\n",
       " 'float_repr_style',\n",
       " 'get_asyncgen_hooks',\n",
       " 'get_coroutine_origin_tracking_depth',\n",
       " 'get_int_max_str_digits',\n",
       " 'getallocatedblocks',\n",
       " 'getdefaultencoding',\n",
       " 'getfilesystemencodeerrors',\n",
       " 'getfilesystemencoding',\n",
       " 'getprofile',\n",
       " 'getrecursionlimit',\n",
       " 'getrefcount',\n",
       " 'getsizeof',\n",
       " 'getswitchinterval',\n",
       " 'gettrace',\n",
       " 'getwindowsversion',\n",
       " 'hash_info',\n",
       " 'hexversion',\n",
       " 'implementation',\n",
       " 'int_info',\n",
       " 'intern',\n",
       " 'is_finalizing',\n",
       " 'last_traceback',\n",
       " 'last_type',\n",
       " 'last_value',\n",
       " 'maxsize',\n",
       " 'maxunicode',\n",
       " 'meta_path',\n",
       " 'modules',\n",
       " 'path',\n",
       " 'path_hooks',\n",
       " 'path_importer_cache',\n",
       " 'platform',\n",
       " 'platlibdir',\n",
       " 'prefix',\n",
       " 'ps1',\n",
       " 'ps2',\n",
       " 'ps3',\n",
       " 'pycache_prefix',\n",
       " 'set_asyncgen_hooks',\n",
       " 'set_coroutine_origin_tracking_depth',\n",
       " 'set_int_max_str_digits',\n",
       " 'setprofile',\n",
       " 'setrecursionlimit',\n",
       " 'setswitchinterval',\n",
       " 'settrace',\n",
       " 'stderr',\n",
       " 'stdin',\n",
       " 'stdout',\n",
       " 'thread_info',\n",
       " 'unraisablehook',\n",
       " 'version',\n",
       " 'version_info',\n",
       " 'warnoptions',\n",
       " 'winver']"
      ]
     },
     "execution_count": 213,
     "metadata": {},
     "output_type": "execute_result"
    }
   ],
   "source": [
    "dir (sys)"
   ]
  },
  {
   "cell_type": "code",
   "execution_count": 214,
   "id": "6123692f",
   "metadata": {},
   "outputs": [
    {
     "name": "stdout",
     "output_type": "stream",
     "text": [
      "2022-12-11 21:05:07.304724\n"
     ]
    }
   ],
   "source": [
    "import datetime\n",
    "x = datetime.datetime.now()\n",
    "print(x)\n"
   ]
  },
  {
   "cell_type": "code",
   "execution_count": 216,
   "id": "fa758de6",
   "metadata": {},
   "outputs": [
    {
     "name": "stdout",
     "output_type": "stream",
     "text": [
      "Current date and time : \n",
      "2022-December-11 21:05:51\n"
     ]
    }
   ],
   "source": [
    "import datetime\n",
    "now = datetime.datetime.now()\n",
    "print (\"Current date and time : \")\n",
    "print (now.strftime(\"%Y-%B-%d %H:%M:%S\"))\n"
   ]
  },
  {
   "cell_type": "code",
   "execution_count": null,
   "id": "f176b34b",
   "metadata": {},
   "outputs": [],
   "source": []
  },
  {
   "cell_type": "code",
   "execution_count": null,
   "id": "2eb869d3",
   "metadata": {},
   "outputs": [],
   "source": []
  }
 ],
 "metadata": {
  "kernelspec": {
   "display_name": "Python 3 (ipykernel)",
   "language": "python",
   "name": "python3"
  },
  "language_info": {
   "codemirror_mode": {
    "name": "ipython",
    "version": 3
   },
   "file_extension": ".py",
   "mimetype": "text/x-python",
   "name": "python",
   "nbconvert_exporter": "python",
   "pygments_lexer": "ipython3",
   "version": "3.9.13"
  }
 },
 "nbformat": 4,
 "nbformat_minor": 5
}
